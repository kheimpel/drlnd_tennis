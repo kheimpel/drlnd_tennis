{
 "cells": [
  {
   "cell_type": "markdown",
   "metadata": {},
   "source": [
    "# Continuous Control\n",
    "\n",
    "---\n",
    "\n",
    "Solution is heavily based on course material and previous exercises.\n",
    "\n",
    "\n",
    "\n",
    "### 1. Start the environment and load packacges\n"
   ]
  },
  {
   "cell_type": "code",
   "execution_count": 2,
   "metadata": {},
   "outputs": [],
   "source": [
    "!pip -q install ./python # only needed for udacity workspace"
   ]
  },
  {
   "cell_type": "code",
   "execution_count": 13,
   "metadata": {},
   "outputs": [],
   "source": [
    "#import some useful packages\n",
    "from collections import deque\n",
    "import time\n",
    "import matplotlib.pyplot as plt\n",
    "%matplotlib inline\n",
    "\n",
    "import numpy as np\n",
    "import torch"
   ]
  },
  {
   "cell_type": "code",
   "execution_count": 3,
   "metadata": {},
   "outputs": [
    {
     "name": "stderr",
     "output_type": "stream",
     "text": [
      "INFO:unityagents:\n",
      "'Academy' started successfully!\n",
      "Unity Academy name: Academy\n",
      "        Number of Brains: 1\n",
      "        Number of External Brains : 1\n",
      "        Lesson number : 0\n",
      "        Reset Parameters :\n",
      "\t\tgoal_speed -> 1.0\n",
      "\t\tgoal_size -> 5.0\n",
      "Unity brain name: ReacherBrain\n",
      "        Number of Visual Observations (per agent): 0\n",
      "        Vector Observation space type: continuous\n",
      "        Vector Observation space size (per agent): 33\n",
      "        Number of stacked Vector Observation: 1\n",
      "        Vector Action space type: continuous\n",
      "        Vector Action space size (per agent): 4\n",
      "        Vector Action descriptions: , , , \n"
     ]
    }
   ],
   "source": [
    "from unityagents import UnityEnvironment\n",
    "\n",
    "# change to Reacher single env path\n",
    "env = UnityEnvironment(file_name='/data/Reacher_One_Linux_NoVis/Reacher_One_Linux_NoVis.x86_64')\n"
   ]
  },
  {
   "cell_type": "code",
   "execution_count": 5,
   "metadata": {},
   "outputs": [],
   "source": [
    "# get the default brain\n",
    "brain_name = env.brain_names[0]\n",
    "brain = env.brains[brain_name]"
   ]
  },
  {
   "cell_type": "markdown",
   "metadata": {},
   "source": [
    "### 2. Define useful environment variables\n"
   ]
  },
  {
   "cell_type": "code",
   "execution_count": 6,
   "metadata": {},
   "outputs": [
    {
     "name": "stdout",
     "output_type": "stream",
     "text": [
      "Number of agents: 1\n",
      "Size of each action: 4\n",
      "There are 1 agents. Each observes a state with length: 33\n",
      "The state for the first agent looks like: [  0.00000000e+00  -4.00000000e+00   0.00000000e+00   1.00000000e+00\n",
      "  -0.00000000e+00  -0.00000000e+00  -4.37113883e-08   0.00000000e+00\n",
      "   0.00000000e+00   0.00000000e+00   0.00000000e+00   0.00000000e+00\n",
      "   0.00000000e+00   0.00000000e+00  -1.00000000e+01   0.00000000e+00\n",
      "   1.00000000e+00  -0.00000000e+00  -0.00000000e+00  -4.37113883e-08\n",
      "   0.00000000e+00   0.00000000e+00   0.00000000e+00   0.00000000e+00\n",
      "   0.00000000e+00   0.00000000e+00   5.75471878e+00  -1.00000000e+00\n",
      "   5.55726671e+00   0.00000000e+00   1.00000000e+00   0.00000000e+00\n",
      "  -1.68164849e-01]\n"
     ]
    }
   ],
   "source": [
    "# reset the environment\n",
    "env_info = env.reset(train_mode=True)[brain_name]\n",
    "\n",
    "# number of agents\n",
    "num_agents = len(env_info.agents)\n",
    "print('Number of agents:', num_agents)\n",
    "\n",
    "# size of each action\n",
    "action_size = brain.vector_action_space_size\n",
    "print('Size of each action:', action_size)\n",
    "\n",
    "# examine the state space \n",
    "states = env_info.vector_observations\n",
    "state_size = states.shape[1]\n",
    "print('There are {} agents. Each observes a state with length: {}'.format(states.shape[0], state_size))\n",
    "print('The state for the first agent looks like:', states[0])"
   ]
  },
  {
   "cell_type": "markdown",
   "metadata": {},
   "source": [
    "### 3. Define DDPQ agent\n"
   ]
  },
  {
   "cell_type": "code",
   "execution_count": 7,
   "metadata": {},
   "outputs": [],
   "source": [
    "from ddpg_agent import Agent\n",
    "agent = Agent(state_size=state_size, action_size=action_size, random_seed = 0)"
   ]
  },
  {
   "cell_type": "code",
   "execution_count": 10,
   "metadata": {},
   "outputs": [],
   "source": [
    "def ddpg(agent, num_episodes=1000, max_t=3000, train=True, stepsize = 100, printevery=25):\n",
    "    '''\n",
    "    Deep Deterministic Policy Gradient (DDQN) Algorithm.\n",
    "    \n",
    "    Params\n",
    "    ======\n",
    "        num_episodes (int): number of training episodes (maximum)\n",
    "        max_t (int): maximum number of timesteps per episode\n",
    "        train (bool): True = training mode, False = inference/test/play mode\n",
    "        stepsize (int): length of window that is used for score averaging\n",
    "        printevery (int): frequency of printing information throughout episode iteration \n",
    "    \n",
    "    '''\n",
    "    stepsize = stepsize\n",
    "    scores = []                                          # initialize the score\n",
    "    scores_window = deque(maxlen=stepsize)  # last X scores\n",
    "    scores_window_small = deque(maxlen=printevery)  # last X scores\n",
    "\n",
    "    start = time.time()        # set timer\n",
    "\n",
    "    for i in range(1,num_episodes+1):\n",
    "        score = 0                                          # initialize score\n",
    "        env_info = env.reset(train_mode=train)[brain_name]  # reset env\n",
    "        agent.reset()                                      # reset agent\n",
    "        state = env_info.vector_observations[0]              # get initial state\n",
    "        for t in range(max_t):\n",
    "            action = agent.act(state) # select an action \n",
    "            env_info = env.step(action)[brain_name]        # send the action to the environment\n",
    "            next_state = env_info.vector_observations[0]   # get the next state\n",
    "            reward = env_info.rewards[0]                   # get the reward\n",
    "            done = env_info.local_done[0]                  # see if episode has finished\n",
    "            if train:                \n",
    "                agent.step(state, action, reward, next_state, done) # update agent (only when training)\n",
    "            score += reward                               # update the score\n",
    "            state = next_state                            # roll over the state to next time step\n",
    "            if done:                                       # exit loop if episode finished\n",
    "                break\n",
    "        scores.append(score)                               # append score\n",
    "        scores_window.append(score)                        # append score to sliding window\n",
    "        scores_window_small.append(score)                        # append score to sliding window\n",
    "\n",
    "        print('\\rEpisode {}\\tScore: {:.2f}'.format(i, score), end=\"\")\n",
    "\n",
    "        if i % printevery == 0:\n",
    "            stop = time.time() - start\n",
    "            print('\\rEpisode {}\\tScore 100: {:.2f} \\tScore 25: {:.2f} \\tTime elapsed: {}'.format(i, np.mean(scores_window), np.mean(scores_window_small), int(stop)))\n",
    "        \n",
    "        if i % 50 == 0:\n",
    "            torch.save(agent.actor_local.state_dict(), 'checkpoint_actor_{:d}.pth'.format(i))\n",
    "            torch.save(agent.critic_local.state_dict(), 'checkpoint_critic_{:d}.pth'.format(i))\n",
    "            np.savetxt('scores_{:d}.txt'.format(i), scores)\n",
    "            \n",
    "        if np.mean(scores_window)>=30.0 and train:\n",
    "            print('\\nEnvironment solved in {:d} episodes!\\tAverage Score: {:.2f}'.format(i-stepsize, np.mean(scores_window)))\n",
    "            torch.save(agent.actor_local.state_dict(), 'checkpoint_actor_success.pth')\n",
    "            torch.save(agent.critic_local.state_dict(), 'checkpoint_critic_success.pth')\n",
    "            break\n",
    "                \n",
    "    return scores"
   ]
  },
  {
   "cell_type": "markdown",
   "metadata": {},
   "source": [
    "### 4. Train agent and show scores"
   ]
  },
  {
   "cell_type": "code",
   "execution_count": 11,
   "metadata": {},
   "outputs": [
    {
     "name": "stdout",
     "output_type": "stream",
     "text": [
      "Episode 25\tScore 100: 0.65 \tScore 25: 0.65 \tTime elapsed: 307\n",
      "Episode 50\tScore 100: 1.46 \tScore 25: 2.28 \tTime elapsed: 620\n",
      "Episode 75\tScore 100: 1.86 \tScore 25: 2.65 \tTime elapsed: 934\n",
      "Episode 100\tScore 100: 2.36 \tScore 25: 3.87 \tTime elapsed: 1257\n",
      "Episode 125\tScore 100: 3.26 \tScore 25: 4.25 \tTime elapsed: 1578\n",
      "Episode 150\tScore 100: 4.13 \tScore 25: 5.74 \tTime elapsed: 1899\n",
      "Episode 175\tScore 100: 5.49 \tScore 25: 8.09 \tTime elapsed: 2222\n",
      "Episode 200\tScore 100: 6.52 \tScore 25: 7.99 \tTime elapsed: 2541\n",
      "Episode 225\tScore 100: 7.84 \tScore 25: 9.55 \tTime elapsed: 2867\n",
      "Episode 250\tScore 100: 8.78 \tScore 25: 9.49 \tTime elapsed: 3191\n",
      "Episode 275\tScore 100: 9.69 \tScore 25: 11.73 \tTime elapsed: 3516\n",
      "Episode 300\tScore 100: 11.48 \tScore 25: 15.14 \tTime elapsed: 3840\n",
      "Episode 325\tScore 100: 12.83 \tScore 25: 14.98 \tTime elapsed: 4164\n",
      "Episode 350\tScore 100: 13.85 \tScore 25: 13.56 \tTime elapsed: 4488\n",
      "Episode 375\tScore 100: 14.54 \tScore 25: 14.48 \tTime elapsed: 4809\n",
      "Episode 400\tScore 100: 14.12 \tScore 25: 13.48 \tTime elapsed: 5133\n",
      "Episode 425\tScore 100: 14.42 \tScore 25: 16.16 \tTime elapsed: 5456\n",
      "Episode 450\tScore 100: 14.37 \tScore 25: 13.36 \tTime elapsed: 5778\n",
      "Episode 475\tScore 100: 13.98 \tScore 25: 12.92 \tTime elapsed: 6100\n",
      "Episode 500\tScore 100: 14.18 \tScore 25: 14.27 \tTime elapsed: 6421\n",
      "Episode 525\tScore 100: 14.03 \tScore 25: 15.57 \tTime elapsed: 6745\n",
      "Episode 550\tScore 100: 15.46 \tScore 25: 19.08 \tTime elapsed: 7069\n",
      "Episode 575\tScore 100: 16.53 \tScore 25: 17.20 \tTime elapsed: 7392\n",
      "Episode 600\tScore 100: 16.80 \tScore 25: 15.35 \tTime elapsed: 7714\n",
      "Episode 625\tScore 100: 17.26 \tScore 25: 17.40 \tTime elapsed: 8038\n",
      "Episode 650\tScore 100: 18.67 \tScore 25: 24.71 \tTime elapsed: 8361\n",
      "Episode 675\tScore 100: 19.60 \tScore 25: 20.92 \tTime elapsed: 8683\n",
      "Episode 700\tScore 100: 21.06 \tScore 25: 21.21 \tTime elapsed: 9005\n",
      "Episode 725\tScore 100: 21.89 \tScore 25: 20.71 \tTime elapsed: 9321\n",
      "Episode 750\tScore 100: 20.01 \tScore 25: 17.18 \tTime elapsed: 9641\n",
      "Episode 775\tScore 100: 20.06 \tScore 25: 21.15 \tTime elapsed: 9962\n",
      "Episode 800\tScore 100: 20.59 \tScore 25: 23.32 \tTime elapsed: 10284\n",
      "Episode 825\tScore 100: 21.16 \tScore 25: 22.97 \tTime elapsed: 10606\n",
      "Episode 850\tScore 100: 22.78 \tScore 25: 23.66 \tTime elapsed: 10928\n",
      "Episode 875\tScore 100: 24.36 \tScore 25: 27.48 \tTime elapsed: 11249\n",
      "Episode 900\tScore 100: 24.55 \tScore 25: 24.07 \tTime elapsed: 11564\n",
      "Episode 925\tScore 100: 26.17 \tScore 25: 29.46 \tTime elapsed: 11883\n",
      "Episode 950\tScore 100: 28.99 \tScore 25: 34.94 \tTime elapsed: 12201\n",
      "Episode 962\tScore: 32.26\n",
      "Environment solved in 862 episodes!\tAverage Score: 30.03\n"
     ]
    }
   ],
   "source": [
    "#training (about 3.5 hours with GPU support)\n",
    "scores = ddpg(agent)"
   ]
  },
  {
   "cell_type": "code",
   "execution_count": 14,
   "metadata": {},
   "outputs": [
    {
     "data": {
      "image/png": "[encoded data removed]",
      "text/plain": [
       "<matplotlib.figure.Figure at 0x7f5beb8b04e0>"
      ]
     },
     "metadata": {
      "needs_background": "light"
     },
     "output_type": "display_data"
    }
   ],
   "source": [
    "# plot the scores\n",
    "fig = plt.figure()\n",
    "ax = fig.add_subplot(111)\n",
    "plt.plot(np.arange(len(scores)), scores)\n",
    "plt.ylabel('Score')\n",
    "plt.xlabel('Episode #')\n",
    "plt.show()"
   ]
  },
  {
   "cell_type": "code",
   "execution_count": 15,
   "metadata": {},
   "outputs": [],
   "source": [
    "env.close()"
   ]
  },
  {
   "cell_type": "code",
   "execution_count": null,
   "metadata": {},
   "outputs": [],
   "source": []
  }
 ],
 "metadata": {
  "kernelspec": {
   "display_name": "Python 3",
   "language": "python",
   "name": "python3"
  },
  "language_info": {
   "codemirror_mode": {
    "name": "ipython",
    "version": 3
   },
   "file_extension": ".py",
   "mimetype": "text/x-python",
   "name": "python",
   "nbconvert_exporter": "python",
   "pygments_lexer": "ipython3",
   "version": "3.6.3"
  }
 },
 "nbformat": 4,
 "nbformat_minor": 2
}
