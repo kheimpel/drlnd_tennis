{
 "cells": [
  {
   "cell_type": "markdown",
   "metadata": {},
   "source": [
    "# Collaboration and Competition - Learn to Play Tennis\n",
    "\n",
    "---\n",
    "\n",
    "Solution is heavily based on course material and previous exercises.\n",
    "\n",
    "\n",
    "### 1. Start the environment and load packages¶"
   ]
  },
  {
   "cell_type": "code",
   "execution_count": 2,
   "metadata": {},
   "outputs": [],
   "source": [
    "!pip -q install ./python # only needed for udacity workspace"
   ]
  },
  {
   "cell_type": "code",
   "execution_count": 6,
   "metadata": {},
   "outputs": [],
   "source": [
    "#import some useful packages\n",
    "from collections import deque\n",
    "import time\n",
    "import matplotlib.pyplot as plt\n",
    "%matplotlib inline\n",
    "\n",
    "import numpy as np\n",
    "import torch"
   ]
  },
  {
   "cell_type": "code",
   "execution_count": 3,
   "metadata": {},
   "outputs": [
    {
     "name": "stderr",
     "output_type": "stream",
     "text": [
      "INFO:unityagents:\n",
      "'Academy' started successfully!\n",
      "Unity Academy name: Academy\n",
      "        Number of Brains: 1\n",
      "        Number of External Brains : 1\n",
      "        Lesson number : 0\n",
      "        Reset Parameters :\n",
      "\t\t\n",
      "Unity brain name: TennisBrain\n",
      "        Number of Visual Observations (per agent): 0\n",
      "        Vector Observation space type: continuous\n",
      "        Vector Observation space size (per agent): 8\n",
      "        Number of stacked Vector Observation: 3\n",
      "        Vector Action space type: continuous\n",
      "        Vector Action space size (per agent): 2\n",
      "        Vector Action descriptions: , \n"
     ]
    }
   ],
   "source": [
    "from unityagents import UnityEnvironment\n",
    "\n",
    "env = UnityEnvironment(file_name=\"/data/Tennis_Linux_NoVis/Tennis\")"
   ]
  },
  {
   "cell_type": "code",
   "execution_count": 4,
   "metadata": {},
   "outputs": [],
   "source": [
    "# get the default brain\n",
    "brain_name = env.brain_names[0]\n",
    "brain = env.brains[brain_name]"
   ]
  },
  {
   "cell_type": "markdown",
   "metadata": {},
   "source": [
    "### 2. Define useful environment variables¶\n",
    "\n"
   ]
  },
  {
   "cell_type": "code",
   "execution_count": 5,
   "metadata": {},
   "outputs": [
    {
     "name": "stdout",
     "output_type": "stream",
     "text": [
      "Number of agents: 2\n",
      "Size of each action: 2\n",
      "There are 2 agents. Each observes a state with length: 24\n",
      "The state for the first agent looks like: [ 0.          0.          0.          0.          0.          0.          0.\n",
      "  0.          0.          0.          0.          0.          0.          0.\n",
      "  0.          0.         -6.65278625 -1.5        -0.          0.\n",
      "  6.83172083  6.         -0.          0.        ]\n"
     ]
    }
   ],
   "source": [
    "# reset the environment\n",
    "env_info = env.reset(train_mode=True)[brain_name]\n",
    "\n",
    "# number of agents \n",
    "num_agents = len(env_info.agents)\n",
    "print('Number of agents:', num_agents)\n",
    "\n",
    "# size of each action\n",
    "action_size = brain.vector_action_space_size\n",
    "print('Size of each action:', action_size)\n",
    "\n",
    "# examine the state space \n",
    "states = env_info.vector_observations\n",
    "state_size = states.shape[1]\n",
    "print('There are {} agents. Each observes a state with length: {}'.format(states.shape[0], state_size))\n",
    "print('The state for the first agent looks like:', states[0])"
   ]
  },
  {
   "cell_type": "markdown",
   "metadata": {},
   "source": [
    "### 3. Define DDPQ agents\n"
   ]
  },
  {
   "cell_type": "code",
   "execution_count": 7,
   "metadata": {},
   "outputs": [],
   "source": [
    "def maddpg(agent, num_episodes=15000, max_t=1000, train=True, stepsize = 100, printevery=50):\n",
    "    '''\n",
    "    Multi Agent Deep Deterministic Policy Gradient (MADDPG) Algorithm.\n",
    "    \n",
    "    Params\n",
    "    ======\n",
    "        num_episodes (int): number of training episodes (maximum)\n",
    "        max_t (int): maximum number of timesteps per episode\n",
    "        train (bool): True = training mode, False = inference/test/play mode\n",
    "        stepsize (int): length of window that is used for score averaging\n",
    "        printevery (int): frequency of printing information throughout episode iteration \n",
    "    \n",
    "    '''\n",
    "    print(\"starting\")\n",
    "    stepsize = stepsize\n",
    "    scores = []                                          # initialize the score\n",
    "    scores_window = deque(maxlen=stepsize)  # last X scores\n",
    "    scores_window_small = deque(maxlen=printevery)  # last X scores\n",
    "\n",
    "    start = time.time()        # set timer\n",
    "\n",
    "    for i in range(1,num_episodes+1):\n",
    "        rewards = []\n",
    "        score = np.zeros(num_agents)                                # initialize score\n",
    "        env_info = env.reset(train_mode=train)[brain_name]  # reset env\n",
    "        agent.reset()                                      # reset agent\n",
    "        state = env_info.vector_observations           # get initial state\n",
    "        for t in range(max_t):\n",
    "            action = agent.act(state) # select an action\n",
    "            env_info = env.step(action)[brain_name]        # send the action to the environment\n",
    "            next_state = env_info.vector_observations   # get the next state\n",
    "            reward = env_info.rewards                # get the reward\n",
    "            done = env_info.local_done                 # see if episode has finished\n",
    "            if train:                \n",
    "                agent.step(state, action, reward, next_state, done) # update agent (only when training)\n",
    "            state = next_state                            # roll over the state to next time step\n",
    "            rewards.append(reward)  #add rewards\n",
    "            if np.any(done):                                       # exit loop if episode finished\n",
    "                break\n",
    "                \n",
    "        episode_reward = np.max(np.sum(rewards,axis=0)) #add rewards per agent and take max\n",
    "        \n",
    "        scores.append(episode_reward)                               # append score\n",
    "        scores_window.append(episode_reward)                        # append score to sliding window\n",
    "        scores_window_small.append(episode_reward)                        # append score to sliding window\n",
    "\n",
    "\n",
    "        if i % printevery == 0:\n",
    "            stop = time.time() - start\n",
    "            print('\\rEpisode {}\\tScore 100: {:.2f} \\t t: {} \\tTime elapsed: {}'.format(i, np.mean(scores_window), t, int(stop)))\n",
    "        \n",
    "            \n",
    "        if np.mean(scores_window)>=0.5 and train:\n",
    "            print('\\nEnvironment solved in {:d} episodes!\\tAverage Score: {:.2f}'.format(i-stepsize, np.mean(scores_window)))\n",
    "            torch.save(agent.actor_local.state_dict(), 'checkpoint_actor_success.pth')\n",
    "            torch.save(agent.critic_local.state_dict(), 'checkpoint_critic_success.pth')\n",
    "            break\n",
    "                \n",
    "    return scores"
   ]
  },
  {
   "cell_type": "code",
   "execution_count": 8,
   "metadata": {},
   "outputs": [],
   "source": [
    "import ddpg_agent\n",
    "agent = ddpg_agent.Agents(state_size=state_size, action_size=action_size, num_agents= num_agents, random_seed = 0)"
   ]
  },
  {
   "cell_type": "code",
   "execution_count": 9,
   "metadata": {},
   "outputs": [
    {
     "name": "stdout",
     "output_type": "stream",
     "text": [
      "starting\n",
      "Episode 50\tScore 100: 0.00 \t t: 13 \tTime elapsed: 14\n",
      "Episode 100\tScore 100: 0.00 \t t: 13 \tTime elapsed: 28\n",
      "Episode 150\tScore 100: 0.00 \t t: 14 \tTime elapsed: 41\n",
      "Episode 200\tScore 100: 0.00 \t t: 13 \tTime elapsed: 55\n",
      "Episode 250\tScore 100: 0.00 \t t: 13 \tTime elapsed: 69\n",
      "Episode 300\tScore 100: 0.00 \t t: 14 \tTime elapsed: 85\n",
      "Episode 350\tScore 100: 0.01 \t t: 13 \tTime elapsed: 104\n",
      "Episode 400\tScore 100: 0.02 \t t: 30 \tTime elapsed: 124\n",
      "Episode 450\tScore 100: 0.03 \t t: 19 \tTime elapsed: 142\n",
      "Episode 500\tScore 100: 0.03 \t t: 13 \tTime elapsed: 163\n",
      "Episode 550\tScore 100: 0.04 \t t: 29 \tTime elapsed: 187\n",
      "Episode 600\tScore 100: 0.05 \t t: 14 \tTime elapsed: 213\n",
      "Episode 650\tScore 100: 0.04 \t t: 13 \tTime elapsed: 232\n",
      "Episode 700\tScore 100: 0.02 \t t: 13 \tTime elapsed: 251\n",
      "Episode 750\tScore 100: 0.04 \t t: 30 \tTime elapsed: 278\n",
      "Episode 800\tScore 100: 0.07 \t t: 70 \tTime elapsed: 315\n",
      "Episode 850\tScore 100: 0.07 \t t: 13 \tTime elapsed: 342\n",
      "Episode 900\tScore 100: 0.10 \t t: 30 \tTime elapsed: 393\n",
      "Episode 950\tScore 100: 0.28 \t t: 29 \tTime elapsed: 552\n",
      "Episode 1000\tScore 100: 0.40 \t t: 273 \tTime elapsed: 704\n",
      "Episode 1050\tScore 100: 0.33 \t t: 49 \tTime elapsed: 826\n",
      "Episode 1100\tScore 100: 0.38 \t t: 109 \tTime elapsed: 1026\n",
      "Episode 1150\tScore 100: 0.36 \t t: 61 \tTime elapsed: 1128\n",
      "\n",
      "Environment solved in 1092 episodes!\tAverage Score: 0.51\n"
     ]
    }
   ],
   "source": [
    "scores = maddpg(agent)"
   ]
  },
  {
   "cell_type": "code",
   "execution_count": 10,
   "metadata": {},
   "outputs": [
    {
     "data": {
      "image/png": "[encoded data removed]",
      "text/plain": [
       "<matplotlib.figure.Figure at 0x7f295add3160>"
      ]
     },
     "metadata": {
      "needs_background": "light"
     },
     "output_type": "display_data"
    }
   ],
   "source": [
    "# plot the scores\n",
    "fig = plt.figure()\n",
    "ax = fig.add_subplot(111)\n",
    "plt.plot(np.arange(len(scores)), scores)\n",
    "plt.ylabel('Score')\n",
    "plt.xlabel('Episode #')\n",
    "plt.show()"
   ]
  },
  {
   "cell_type": "code",
   "execution_count": 11,
   "metadata": {},
   "outputs": [],
   "source": [
    "env.close()"
   ]
  },
  {
   "cell_type": "code",
   "execution_count": null,
   "metadata": {},
   "outputs": [],
   "source": []
  }
 ],
 "metadata": {
  "kernelspec": {
   "display_name": "Python 3",
   "language": "python",
   "name": "python3"
  },
  "language_info": {
   "codemirror_mode": {
    "name": "ipython",
    "version": 3
   },
   "file_extension": ".py",
   "mimetype": "text/x-python",
   "name": "python",
   "nbconvert_exporter": "python",
   "pygments_lexer": "ipython3",
   "version": "3.6.3"
  }
 },
 "nbformat": 4,
 "nbformat_minor": 2
}
